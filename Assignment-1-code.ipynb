{
 "cells": [
  {
   "cell_type": "code",
   "execution_count": 16,
   "id": "09f9754e",
   "metadata": {},
   "outputs": [
    {
     "name": "stdout",
     "output_type": "stream",
     "text": [
      "\n",
      "logistic_regression Results (saved at models\\logistic_regression.pkl):\n",
      "Accuracy: 0.933, Precision: 0.933, Recall: 0.933, F1-score: 0.933\n",
      "\n",
      "random_forest Results (saved at models\\random_forest.pkl):\n",
      "Accuracy: 0.900, Precision: 0.902, Recall: 0.900, F1-score: 0.900\n",
      "\n",
      "svm Results (saved at models\\svm.pkl):\n",
      "Accuracy: 1.000, Precision: 1.000, Recall: 1.000, F1-score: 1.000\n",
      "\n",
      "Comparison table saved to results/model_comparison.csv\n",
      "                 Model  Accuracy  Precision    Recall  F1-score\n",
      "0  logistic_regression  0.933333   0.933333  0.933333  0.933333\n",
      "1        random_forest  0.900000   0.902357  0.900000  0.899749\n",
      "2                  svm  1.000000   1.000000  1.000000  1.000000\n"
     ]
    }
   ],
   "source": [
    "import os\n",
    "import joblib\n",
    "import pandas as pd\n",
    "from sklearn.datasets import load_iris\n",
    "from sklearn.model_selection import train_test_split\n",
    "from sklearn.preprocessing import StandardScaler\n",
    "from sklearn.linear_model import LogisticRegression\n",
    "from sklearn.ensemble import RandomForestClassifier\n",
    "from sklearn.svm import SVC\n",
    "from sklearn.metrics import accuracy_score, precision_score, recall_score, f1_score\n",
    "\n",
    "os.makedirs(\"models\", exist_ok=True)\n",
    "os.makedirs(\"results\", exist_ok=True)\n",
    "\n",
    "iris = load_iris()\n",
    "X = iris.data\n",
    "y = iris.target\n",
    "X_train, X_test, y_train, y_test = train_test_split(X, y, test_size=0.2, random_state=42, stratify=y)\n",
    "\n",
    "scaler = StandardScaler()\n",
    "X_train = scaler.fit_transform(X_train)\n",
    "X_test = scaler.transform(X_test)\n",
    "\n",
    "def evaluate_and_save(model, model_name):\n",
    "    model.fit(X_train, y_train)\n",
    "    y_pred = model.predict(X_test)\n",
    "\n",
    "    acc = accuracy_score(y_test, y_pred)\n",
    "    prec = precision_score(y_test, y_pred, average=\"weighted\")\n",
    "    rec = recall_score(y_test, y_pred, average=\"weighted\")\n",
    "    f1 = f1_score(y_test, y_pred, average=\"weighted\")\n",
    "\n",
    "    model_path = os.path.join(\"models\", f\"{model_name}.pkl\")\n",
    "    joblib.dump(model, model_path)\n",
    "\n",
    "    print(f\"\\n{model_name} Results (saved at {model_path}):\")\n",
    "    print(f\"Accuracy: {acc:.3f}, Precision: {prec:.3f}, Recall: {rec:.3f}, F1-score: {f1:.3f}\")\n",
    "\n",
    "    return [model_name, acc, prec, rec, f1]\n",
    "\n",
    "log_reg = LogisticRegression(max_iter=200)\n",
    "log_reg_results = evaluate_and_save(log_reg, \"logistic_regression\")\n",
    "\n",
    "rf = RandomForestClassifier(n_estimators=100, random_state=42)\n",
    "rf_results = evaluate_and_save(rf, \"random_forest\")\n",
    "\n",
    "svm = SVC(kernel=\"linear\", probability=True, random_state=42)\n",
    "svm_results = evaluate_and_save(svm, \"svm\")\n",
    "\n",
    "results = [log_reg_results, rf_results, svm_results]\n",
    "df_results = pd.DataFrame(results, columns=[\"Model\", \"Accuracy\", \"Precision\", \"Recall\", \"F1-score\"])\n",
    "df_results.to_csv(\"results/model_comparison.csv\", index=False)\n",
    "\n",
    "print(\"\\nComparison table saved to results/model_comparison.csv\")\n",
    "print(df_results)"
   ]
  }
 ],
 "metadata": {
  "kernelspec": {
   "display_name": "cv",
   "language": "python",
   "name": "python3"
  },
  "language_info": {
   "codemirror_mode": {
    "name": "ipython",
    "version": 3
   },
   "file_extension": ".py",
   "mimetype": "text/x-python",
   "name": "python",
   "nbconvert_exporter": "python",
   "pygments_lexer": "ipython3",
   "version": "3.12.7"
  }
 },
 "nbformat": 4,
 "nbformat_minor": 5
}
